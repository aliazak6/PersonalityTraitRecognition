{
 "cells": [
  {
   "cell_type": "code",
   "execution_count": null,
   "id": "8665ab88",
   "metadata": {},
   "outputs": [],
   "source": [
    "import cv2\n",
    "import os\n",
    "import numpy as np\n",
    "import tensorflow as tf\n",
    "import pickle\n",
    "import concurrent.futures\n",
    "from tqdm import tqdm"
   ]
  },
  {
   "cell_type": "code",
   "execution_count": null,
   "id": "b0421d4d",
   "metadata": {},
   "outputs": [],
   "source": [
    "# Mount Google Drive\n",
    "from google.colab import drive\n",
    "drive.mount('/content/drive')"
   ]
  },
  {
   "cell_type": "code",
   "execution_count": null,
   "id": "2ca4fe02",
   "metadata": {},
   "outputs": [],
   "source": [
    "# Paths in Google Drive\n",
    "base_path = '/content/drive/My Drive/vit_dnn/'\n",
    "\n",
    "# Set paths\n",
    "video_folder = base_path + 'Base_Dataset/Validation_Data/Videos'\n",
    "annotation_path = base_path + 'Base_Dataset/Validation_Data/Annotations/annotation_validation.pkl'\n",
    "save_folder = base_path + 'Preprocess2/Validation_Preprocessed2'"
   ]
  },
  {
   "cell_type": "code",
   "execution_count": null,
   "id": "567e2600",
   "metadata": {},
   "outputs": [],
   "source": [
    "def extract_frames(video_path, num_frames, frames_per_second=1):\n",
    "    cap = cv2.VideoCapture(video_path)\n",
    "    frames = []\n",
    "    frame_rate = cap.get(cv2.CAP_PROP_FPS)\n",
    "    target_frame_indices = [int(frame_rate * i) for i in range(5)]\n",
    "    \n",
    "    for idx in target_frame_indices:\n",
    "        cap.set(cv2.CAP_PROP_POS_FRAMES, idx)\n",
    "        ret, frame = cap.read()\n",
    "        if ret:\n",
    "            frames.append(frame)\n",
    "    \n",
    "    cap.release()\n",
    "    return frames"
   ]
  },
  {
   "cell_type": "code",
   "execution_count": null,
   "id": "235214f3",
   "metadata": {},
   "outputs": [],
   "source": [
    "def preprocess_frame(frame):\n",
    "    frame = cv2.resize(frame, (224, 224))\n",
    "    frame = tf.keras.applications.resnet.preprocess_input(frame)\n",
    "    return frame"
   ]
  },
  {
   "cell_type": "code",
   "execution_count": null,
   "id": "73022d7f",
   "metadata": {},
   "outputs": [],
   "source": [
    "def process_video(video_file, video_folder, all_annotations, num_frames):\n",
    "    video_path = os.path.join(video_folder, video_file)\n",
    "    frames = extract_frames(video_path, num_frames)\n",
    "    processed_frames = [preprocess_frame(frame) for frame in frames]\n",
    "    base_name = os.path.basename(video_file)\n",
    "\n",
    "    if all(base_name in all_annotations[trait] for trait in all_annotations.keys()):\n",
    "        # Retrieve only the first 5 labels from the annotations\n",
    "        annotation = [all_annotations[trait][base_name] for trait in all_annotations.keys()][:5]\n",
    "        return processed_frames, annotation\n",
    "\n",
    "    return None, None"
   ]
  },
  {
   "cell_type": "code",
   "execution_count": null,
   "id": "4de807f4",
   "metadata": {},
   "outputs": [],
   "source": [
    "# Load annotations\n",
    "with open(annotation_path, 'rb') as file:\n",
    "    all_annotations = pickle.load(file, encoding='latin1')"
   ]
  },
  {
   "cell_type": "code",
   "execution_count": null,
   "id": "939251cd",
   "metadata": {},
   "outputs": [],
   "source": [
    "# Create save folder if it doesn't exist\n",
    "if not os.path.exists(save_folder):\n",
    "    os.makedirs(save_folder)"
   ]
  },
  {
   "cell_type": "code",
   "execution_count": null,
   "id": "68daa517",
   "metadata": {},
   "outputs": [],
   "source": [
    "# Adjust the number of frames here to reduce the size\n",
    "num_frames = 5"
   ]
  },
  {
   "cell_type": "code",
   "execution_count": null,
   "id": "e39ccf74",
   "metadata": {},
   "outputs": [],
   "source": [
    "# Main processing loop\n",
    "all_video_data, all_video_labels = [], []\n",
    "all_video_files = os.listdir(video_folder)\n",
    "errors = []"
   ]
  },
  {
   "cell_type": "code",
   "execution_count": null,
   "id": "1d2ce6a7",
   "metadata": {},
   "outputs": [],
   "source": [
    "for video_file in tqdm(all_video_files):\n",
    "    X_batch, y_batch = process_video(video_file, video_folder, all_annotations, num_frames)\n",
    "    if X_batch is not None and y_batch is not None:\n",
    "        all_video_data.append(X_batch)\n",
    "        all_video_labels.append(y_batch)"
   ]
  },
  {
   "cell_type": "code",
   "execution_count": null,
   "id": "66fc464e",
   "metadata": {},
   "outputs": [],
   "source": [
    "# Convert to numpy arrays and save\n",
    "all_video_data = np.array(all_video_data)\n",
    "all_video_labels = np.array(all_video_labels)\n",
    "np.save(os.path.join(save_folder, 'preprocessed_validation_batch_final5.npy'), all_video_data)\n",
    "np.save(os.path.join(save_folder, 'labels_validation_batch_final5.npy'), all_video_labels)"
   ]
  },
  {
   "cell_type": "code",
   "execution_count": null,
   "id": "bb693458",
   "metadata": {},
   "outputs": [],
   "source": [
    "# Error reporting\n",
    "if errors:\n",
    "    print(\"Errors during processing:\")\n",
    "    for video_file, error_message in errors:\n",
    "        print(f\"Video: {video_file}, Error: {error_message}\")"
   ]
  }
 ],
 "metadata": {
  "kernelspec": {
   "display_name": "Python 3 (ipykernel)",
   "language": "python",
   "name": "python3"
  },
  "language_info": {
   "codemirror_mode": {
    "name": "ipython",
    "version": 3
   },
   "file_extension": ".py",
   "mimetype": "text/x-python",
   "name": "python",
   "nbconvert_exporter": "python",
   "pygments_lexer": "ipython3",
   "version": "3.11.4"
  }
 },
 "nbformat": 4,
 "nbformat_minor": 5
}
